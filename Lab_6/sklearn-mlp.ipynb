{
 "cells": [
  {
   "cell_type": "markdown",
   "id": "3f05edbf",
   "metadata": {
    "papermill": {
     "duration": 0.010048,
     "end_time": "2023-11-13T10:12:52.759140",
     "exception": false,
     "start_time": "2023-11-13T10:12:52.749092",
     "status": "completed"
    },
    "tags": []
   },
   "source": [
    "# MNIST using Sklearn MLP"
   ]
  },
  {
   "cell_type": "markdown",
   "id": "6e7bf984",
   "metadata": {
    "papermill": {
     "duration": 0.009523,
     "end_time": "2023-11-13T10:12:52.779569",
     "exception": false,
     "start_time": "2023-11-13T10:12:52.770046",
     "status": "completed"
    },
    "tags": []
   },
   "source": [
    "#  Introduction"
   ]
  },
  {
   "cell_type": "markdown",
   "id": "2dec0a0b",
   "metadata": {
    "papermill": {
     "duration": 0.009727,
     "end_time": "2023-11-13T10:12:52.798821",
     "exception": false,
     "start_time": "2023-11-13T10:12:52.789094",
     "status": "completed"
    },
    "tags": []
   },
   "source": [
    "<div style=\"border-radius: 10px; border: #3bb143 solid; padding: 15px; background-color: #ffffff00; font-size: 100%; text-align: left;\">\n",
    "The <b>MNIST database</b> (<i>Modified National Institute of Standards and Technology database</i>) is a large database of <b>handwritten digits</b> that is commonly used for training various image processing systems. As new machine learning techniques emerge, MNIST remains a reliable resource for researchers and learners alike.<br><br>\n",
    "The original <b>black and white images</b> were normalized to fit into a <b>28x28 pixel</b> bounding box and anti-aliased, which introduced <b>grayscale levels</b>. The original MNIST database contains 60,000 training images and 10,000 testing images, but in this competition we are given <b>42,000 training images</b> (70%) and <b>18,000 testing images</b> (30%). In the original paper, the creators used a <b>Support-Vector Machine</b> to get an <i>error rate of 0.8%</i>.<br><br>\n",
    "In this notebook, we will train a <b>MultiLayer Perceptron (MLP)</b> that achieves a test accuarcy (Laderboard score) of <b>96.76%</b>. But first of all, we will <b>preprocess and visualize the data</b>. Then, we will train an MLP using the <code>sklearn</code> Python library. Finally, we will predict on the test data to create the <b>submission file</b>.<br><br>\n",
    "</div>"
   ]
  },
  {
   "cell_type": "code",
   "execution_count": 1,
   "id": "ee9bdd0f",
   "metadata": {
    "execution": {
     "iopub.execute_input": "2023-11-13T10:12:52.821379Z",
     "iopub.status.busy": "2023-11-13T10:12:52.820457Z",
     "iopub.status.idle": "2023-11-13T10:12:55.636148Z",
     "shell.execute_reply": "2023-11-13T10:12:55.634831Z"
    },
    "papermill": {
     "duration": 2.830335,
     "end_time": "2023-11-13T10:12:55.639224",
     "exception": false,
     "start_time": "2023-11-13T10:12:52.808889",
     "status": "completed"
    },
    "tags": []
   },
   "outputs": [],
   "source": [
    "## IMPORT THE NECESSARY PYTHON LIBRARIES\n",
    "\n",
    "# Read and Preprocess Data\n",
    "import numpy as np\n",
    "import pandas as pd\n",
    "import seaborn as sns\n",
    "import matplotlib.pyplot as plt\n",
    "\n",
    "# Train a MultiLayer Perceptron\n",
    "from tqdm import tqdm\n",
    "from sklearn.neural_network import MLPClassifier\n",
    "from sklearn.model_selection import train_test_split\n",
    "from sklearn.metrics import \\\n",
    "    log_loss, accuracy_score, \\\n",
    "    confusion_matrix, ConfusionMatrixDisplay"
   ]
  },
  {
   "cell_type": "markdown",
   "id": "c735a8bc",
   "metadata": {
    "papermill": {
     "duration": 0.009573,
     "end_time": "2023-11-13T10:12:55.658493",
     "exception": false,
     "start_time": "2023-11-13T10:12:55.648920",
     "status": "completed"
    },
    "tags": []
   },
   "source": [
    "# 🔎 Read & Preprocess Data 🔍"
   ]
  },
  {
   "cell_type": "markdown",
   "id": "79559463",
   "metadata": {
    "papermill": {
     "duration": 0.009435,
     "end_time": "2023-11-13T10:12:55.677710",
     "exception": false,
     "start_time": "2023-11-13T10:12:55.668275",
     "status": "completed"
    },
    "tags": []
   },
   "source": [
    "<div style=\"border-radius: 10px; border: #3bb143 solid; padding: 15px; background-color: #ffffff00; font-size: 100%; text-align: left;\">\n",
    "In this section, we will use the well-known <code>Pandas</code> Python library to read the data from <code>.csv</code> files.<br><br>\n",
    "We will visualize the <b>distribution of the pixel values</b> (histogram) using the <code>Seaborn</code> and <b>Matplotlib</b> Python libraries. We will also check that there are no <b>missing values</b>, and that the <b>target classes are balances</b>. We will <b>visualize the images</b> by plotting one image from each class.<br><br>\n",
    "The last part of this section consists of <b>preprocessing the data</b> before feeding an <b>MLP</b> model:\n",
    "    <ul>\n",
    "        <li> <b>SCALING</b> : Scale the data by mapping the pixel values to the <b>[0,1] interval</b>, where the largest occuring data point (<code>255</code>) corresponds to the maximum value (<code>1</code>), and the smallest one (<code>0</code>) corresponds to the minimum value (<code>0</code>). <br><b>WHY?</b> Because <i>MultiLayer Perceptrons</i> can benefit from having input data with small values. This encourages <i>numerical stability</i>, <i>gradient descent convergence</i>, <i>activation function sensitivity</i>, etc.</li><br>\n",
    "        <li> <b>FLATTENING</b> : Each image will be represented as <b>an array of 784 values</b>. It means that we will not take advantage of the grid structure of the image.<br><b>WHY?</b> Because <i>MultiLayer Perceptrons</i> models were originally designed to handle <i>one-dimensional</i> input data. This limitation arises from the architecture of the <i>perceptron</i>, the fundamental building block of an MLP. In the context of images, a basic MLP would <i>treat each pixel as a separate input feature</i>, resulting in a flattened, one-dimensional representation of the image. This approach <i>loses the spatial information</i> and structure inherent in two-dimensional images</li>\n",
    "    </ul>\n",
    "</div>"
   ]
  },
  {
   "cell_type": "code",
   "execution_count": 2,
   "id": "90601649",
   "metadata": {
    "execution": {
     "iopub.execute_input": "2023-11-13T10:12:55.699202Z",
     "iopub.status.busy": "2023-11-13T10:12:55.698467Z",
     "iopub.status.idle": "2023-11-13T10:13:02.555087Z",
     "shell.execute_reply": "2023-11-13T10:13:02.553859Z"
    },
    "papermill": {
     "duration": 6.870711,
     "end_time": "2023-11-13T10:13:02.558128",
     "exception": false,
     "start_time": "2023-11-13T10:12:55.687417",
     "status": "completed"
    },
    "tags": []
   },
   "outputs": [],
   "source": [
    "# Read the data files using Pandas\n",
    "df_train = pd.read_csv('/kaggle/input/digit-recognizer/train.csv')\n",
    "df_test =  pd.read_csv('/kaggle/input/digit-recognizer/test.csv')"
   ]
  },
  {
   "cell_type": "code",
   "execution_count": 3,
   "id": "2229c3d8",
   "metadata": {
    "execution": {
     "iopub.execute_input": "2023-11-13T10:13:02.579679Z",
     "iopub.status.busy": "2023-11-13T10:13:02.579223Z",
     "iopub.status.idle": "2023-11-13T10:13:02.585507Z",
     "shell.execute_reply": "2023-11-13T10:13:02.584559Z"
    },
    "papermill": {
     "duration": 0.020646,
     "end_time": "2023-11-13T10:13:02.588619",
     "exception": false,
     "start_time": "2023-11-13T10:13:02.567973",
     "status": "completed"
    },
    "tags": []
   },
   "outputs": [
    {
     "name": "stdout",
     "output_type": "stream",
     "text": [
      "df_train shape: (42000, 785)\n",
      "df_test shape:  (28000, 784)\n"
     ]
    }
   ],
   "source": [
    "# Check the size of the train and test DataFrames\n",
    "print(\"df_train shape:\", df_train.shape)\n",
    "print(\"df_test shape: \", df_test.shape)"
   ]
  },
  {
   "cell_type": "code",
   "execution_count": 4,
   "id": "34e42884",
   "metadata": {
    "execution": {
     "iopub.execute_input": "2023-11-13T10:13:02.610498Z",
     "iopub.status.busy": "2023-11-13T10:13:02.609832Z",
     "iopub.status.idle": "2023-11-13T10:13:02.665797Z",
     "shell.execute_reply": "2023-11-13T10:13:02.664328Z"
    },
    "papermill": {
     "duration": 0.069925,
     "end_time": "2023-11-13T10:13:02.668458",
     "exception": false,
     "start_time": "2023-11-13T10:13:02.598533",
     "status": "completed"
    },
    "tags": []
   },
   "outputs": [
    {
     "name": "stdout",
     "output_type": "stream",
     "text": [
      "Missing values in df_train:  0\n",
      "Missing values in df_test:  0\n"
     ]
    }
   ],
   "source": [
    "# Fortunately there are no missing values in our data\n",
    "print(\n",
    "    \"Missing values in df_train: \", \\\n",
    "    df_train.isna().sum().sum()\n",
    ")\n",
    "print(\n",
    "    \"Missing values in df_test: \", \\\n",
    "    df_test.isna().sum().sum()\n",
    ")"
   ]
  },
  {
   "cell_type": "code",
   "execution_count": 5,
   "id": "51dda184",
   "metadata": {
    "execution": {
     "iopub.execute_input": "2023-11-13T10:13:02.691609Z",
     "iopub.status.busy": "2023-11-13T10:13:02.691151Z",
     "iopub.status.idle": "2023-11-13T10:13:02.722448Z",
     "shell.execute_reply": "2023-11-13T10:13:02.721261Z"
    },
    "papermill": {
     "duration": 0.045772,
     "end_time": "2023-11-13T10:13:02.725315",
     "exception": false,
     "start_time": "2023-11-13T10:13:02.679543",
     "status": "completed"
    },
    "tags": []
   },
   "outputs": [
    {
     "data": {
      "text/html": [
       "<div>\n",
       "<style scoped>\n",
       "    .dataframe tbody tr th:only-of-type {\n",
       "        vertical-align: middle;\n",
       "    }\n",
       "\n",
       "    .dataframe tbody tr th {\n",
       "        vertical-align: top;\n",
       "    }\n",
       "\n",
       "    .dataframe thead th {\n",
       "        text-align: right;\n",
       "    }\n",
       "</style>\n",
       "<table border=\"1\" class=\"dataframe\">\n",
       "  <thead>\n",
       "    <tr style=\"text-align: right;\">\n",
       "      <th></th>\n",
       "      <th>label</th>\n",
       "      <th>pixel0</th>\n",
       "      <th>pixel1</th>\n",
       "      <th>pixel2</th>\n",
       "      <th>pixel3</th>\n",
       "      <th>pixel4</th>\n",
       "      <th>pixel5</th>\n",
       "      <th>pixel6</th>\n",
       "      <th>pixel7</th>\n",
       "      <th>pixel8</th>\n",
       "      <th>...</th>\n",
       "      <th>pixel774</th>\n",
       "      <th>pixel775</th>\n",
       "      <th>pixel776</th>\n",
       "      <th>pixel777</th>\n",
       "      <th>pixel778</th>\n",
       "      <th>pixel779</th>\n",
       "      <th>pixel780</th>\n",
       "      <th>pixel781</th>\n",
       "      <th>pixel782</th>\n",
       "      <th>pixel783</th>\n",
       "    </tr>\n",
       "  </thead>\n",
       "  <tbody>\n",
       "    <tr>\n",
       "      <th>0</th>\n",
       "      <td>1</td>\n",
       "      <td>0</td>\n",
       "      <td>0</td>\n",
       "      <td>0</td>\n",
       "      <td>0</td>\n",
       "      <td>0</td>\n",
       "      <td>0</td>\n",
       "      <td>0</td>\n",
       "      <td>0</td>\n",
       "      <td>0</td>\n",
       "      <td>...</td>\n",
       "      <td>0</td>\n",
       "      <td>0</td>\n",
       "      <td>0</td>\n",
       "      <td>0</td>\n",
       "      <td>0</td>\n",
       "      <td>0</td>\n",
       "      <td>0</td>\n",
       "      <td>0</td>\n",
       "      <td>0</td>\n",
       "      <td>0</td>\n",
       "    </tr>\n",
       "    <tr>\n",
       "      <th>1</th>\n",
       "      <td>0</td>\n",
       "      <td>0</td>\n",
       "      <td>0</td>\n",
       "      <td>0</td>\n",
       "      <td>0</td>\n",
       "      <td>0</td>\n",
       "      <td>0</td>\n",
       "      <td>0</td>\n",
       "      <td>0</td>\n",
       "      <td>0</td>\n",
       "      <td>...</td>\n",
       "      <td>0</td>\n",
       "      <td>0</td>\n",
       "      <td>0</td>\n",
       "      <td>0</td>\n",
       "      <td>0</td>\n",
       "      <td>0</td>\n",
       "      <td>0</td>\n",
       "      <td>0</td>\n",
       "      <td>0</td>\n",
       "      <td>0</td>\n",
       "    </tr>\n",
       "    <tr>\n",
       "      <th>2</th>\n",
       "      <td>1</td>\n",
       "      <td>0</td>\n",
       "      <td>0</td>\n",
       "      <td>0</td>\n",
       "      <td>0</td>\n",
       "      <td>0</td>\n",
       "      <td>0</td>\n",
       "      <td>0</td>\n",
       "      <td>0</td>\n",
       "      <td>0</td>\n",
       "      <td>...</td>\n",
       "      <td>0</td>\n",
       "      <td>0</td>\n",
       "      <td>0</td>\n",
       "      <td>0</td>\n",
       "      <td>0</td>\n",
       "      <td>0</td>\n",
       "      <td>0</td>\n",
       "      <td>0</td>\n",
       "      <td>0</td>\n",
       "      <td>0</td>\n",
       "    </tr>\n",
       "    <tr>\n",
       "      <th>3</th>\n",
       "      <td>4</td>\n",
       "      <td>0</td>\n",
       "      <td>0</td>\n",
       "      <td>0</td>\n",
       "      <td>0</td>\n",
       "      <td>0</td>\n",
       "      <td>0</td>\n",
       "      <td>0</td>\n",
       "      <td>0</td>\n",
       "      <td>0</td>\n",
       "      <td>...</td>\n",
       "      <td>0</td>\n",
       "      <td>0</td>\n",
       "      <td>0</td>\n",
       "      <td>0</td>\n",
       "      <td>0</td>\n",
       "      <td>0</td>\n",
       "      <td>0</td>\n",
       "      <td>0</td>\n",
       "      <td>0</td>\n",
       "      <td>0</td>\n",
       "    </tr>\n",
       "    <tr>\n",
       "      <th>4</th>\n",
       "      <td>0</td>\n",
       "      <td>0</td>\n",
       "      <td>0</td>\n",
       "      <td>0</td>\n",
       "      <td>0</td>\n",
       "      <td>0</td>\n",
       "      <td>0</td>\n",
       "      <td>0</td>\n",
       "      <td>0</td>\n",
       "      <td>0</td>\n",
       "      <td>...</td>\n",
       "      <td>0</td>\n",
       "      <td>0</td>\n",
       "      <td>0</td>\n",
       "      <td>0</td>\n",
       "      <td>0</td>\n",
       "      <td>0</td>\n",
       "      <td>0</td>\n",
       "      <td>0</td>\n",
       "      <td>0</td>\n",
       "      <td>0</td>\n",
       "    </tr>\n",
       "  </tbody>\n",
       "</table>\n",
       "<p>5 rows × 785 columns</p>\n",
       "</div>"
      ],
      "text/plain": [
       "   label  pixel0  pixel1  pixel2  pixel3  pixel4  pixel5  pixel6  pixel7  \\\n",
       "0      1       0       0       0       0       0       0       0       0   \n",
       "1      0       0       0       0       0       0       0       0       0   \n",
       "2      1       0       0       0       0       0       0       0       0   \n",
       "3      4       0       0       0       0       0       0       0       0   \n",
       "4      0       0       0       0       0       0       0       0       0   \n",
       "\n",
       "   pixel8  ...  pixel774  pixel775  pixel776  pixel777  pixel778  pixel779  \\\n",
       "0       0  ...         0         0         0         0         0         0   \n",
       "1       0  ...         0         0         0         0         0         0   \n",
       "2       0  ...         0         0         0         0         0         0   \n",
       "3       0  ...         0         0         0         0         0         0   \n",
       "4       0  ...         0         0         0         0         0         0   \n",
       "\n",
       "   pixel780  pixel781  pixel782  pixel783  \n",
       "0         0         0         0         0  \n",
       "1         0         0         0         0  \n",
       "2         0         0         0         0  \n",
       "3         0         0         0         0  \n",
       "4         0         0         0         0  \n",
       "\n",
       "[5 rows x 785 columns]"
      ]
     },
     "execution_count": 5,
     "metadata": {},
     "output_type": "execute_result"
    }
   ],
   "source": [
    "# Let's have a look at the first five training rows\n",
    "df_train.head()"
   ]
  },
  {
   "cell_type": "code",
   "execution_count": 6,
   "id": "df2664b3",
   "metadata": {
    "execution": {
     "iopub.execute_input": "2023-11-13T10:13:02.748908Z",
     "iopub.status.busy": "2023-11-13T10:13:02.748067Z",
     "iopub.status.idle": "2023-11-13T10:13:02.879106Z",
     "shell.execute_reply": "2023-11-13T10:13:02.877566Z"
    },
    "papermill": {
     "duration": 0.146473,
     "end_time": "2023-11-13T10:13:02.882490",
     "exception": false,
     "start_time": "2023-11-13T10:13:02.736017",
     "status": "completed"
    },
    "tags": []
   },
   "outputs": [],
   "source": [
    "# We can see that the first colum is the label,\n",
    "# and the rest of the columns are the 784 pixels\n",
    "# that represent 28x28 gray-scale images.\n",
    "# Let's extract the training images (X) and \n",
    "# the trainig targets (y)\n",
    "\n",
    "X_train_original = df_train.drop(columns=['label']).values\n",
    "X_train_2d = X_train_original.reshape(\n",
    "    42000, 28, 28\n",
    ")\n",
    "\n",
    "y_train = df_train['label'].values"
   ]
  },
  {
   "cell_type": "code",
   "execution_count": 7,
   "id": "8cbba28c",
   "metadata": {
    "execution": {
     "iopub.execute_input": "2023-11-13T10:13:02.907250Z",
     "iopub.status.busy": "2023-11-13T10:13:02.906566Z",
     "iopub.status.idle": "2023-11-13T10:13:21.142448Z",
     "shell.execute_reply": "2023-11-13T10:13:21.141052Z"
    },
    "papermill": {
     "duration": 18.25207,
     "end_time": "2023-11-13T10:13:21.145835",
     "exception": false,
     "start_time": "2023-11-13T10:13:02.893765",
     "status": "completed"
    },
    "tags": []
   },
   "outputs": [
    {
     "data": {
      "image/png": "[encoded data removed]",
      "text/plain": [
       "<Figure size 640x480 with 1 Axes>"
      ]
     },
     "metadata": {},
     "output_type": "display_data"
    }
   ],
   "source": [
    "# Let's visualize the distribution of the pixel values\n",
    "\n",
    "ax = sns.histplot(\n",
    "    x=X_train_original.flatten(), \n",
    "    color='#3bb143'\n",
    ")\n",
    "_ = ax.set(\n",
    "    title='Pixel Value Histogram', xlabel='Pixel Value'\n",
    ")\n",
    "\n",
    "# As we can see, the 0 value represents the background\n",
    "# and the >0 values represent the digits in the images"
   ]
  },
  {
   "cell_type": "code",
   "execution_count": 8,
   "id": "33967a12",
   "metadata": {
    "execution": {
     "iopub.execute_input": "2023-11-13T10:13:21.170373Z",
     "iopub.status.busy": "2023-11-13T10:13:21.169924Z",
     "iopub.status.idle": "2023-11-13T10:13:21.527437Z",
     "shell.execute_reply": "2023-11-13T10:13:21.526229Z"
    },
    "papermill": {
     "duration": 0.373049,
     "end_time": "2023-11-13T10:13:21.530089",
     "exception": false,
     "start_time": "2023-11-13T10:13:21.157040",
     "status": "completed"
    },
    "tags": []
   },
   "outputs": [
    {
     "data": {
      "text/plain": [
       "<matplotlib.lines.Line2D at 0x79fb45916710>"
      ]
     },
     "execution_count": 8,
     "metadata": {},
     "output_type": "execute_result"
    },
    {
     "data": {
      "image/png": "[encoded data removed]",
      "text/plain": [
       "<Figure size 640x480 with 1 Axes>"
      ]
     },
     "metadata": {},
     "output_type": "display_data"
    }
   ],
   "source": [
    "# Let's check that the target is balances.\n",
    "# It means that the ten categories in the target\n",
    "# have roughly the same representation in the data.\n",
    "\n",
    "ax = sns.countplot(x=y_train, color='#3bb143')\n",
    "ax.set(\n",
    "    title='Target distribution is balanced? Yes!',\n",
    "    xlabel='Label'\n",
    ")\n",
    "# The expected number of samples for a balanced \n",
    "# class distribution is 42000/10 = 4200\n",
    "ax.axhline(y=4200, color='#0b6623', linestyle='--')\n",
    "\n",
    "# Since the target classes are balances, we don't have\n",
    "# worry about sampling methods and biases in our models."
   ]
  },
  {
   "cell_type": "code",
   "execution_count": 9,
   "id": "b066c394",
   "metadata": {
    "execution": {
     "iopub.execute_input": "2023-11-13T10:13:21.556789Z",
     "iopub.status.busy": "2023-11-13T10:13:21.555393Z",
     "iopub.status.idle": "2023-11-13T10:13:22.106436Z",
     "shell.execute_reply": "2023-11-13T10:13:22.105152Z"
    },
    "papermill": {
     "duration": 0.567487,
     "end_time": "2023-11-13T10:13:22.109535",
     "exception": false,
     "start_time": "2023-11-13T10:13:21.542048",
     "status": "completed"
    },
    "tags": []
   },
   "outputs": [
    {
     "data": {
      "image/png": "[encoded data removed]",
      "text/plain": [
       "<Figure size 1000x500 with 10 Axes>"
      ]
     },
     "metadata": {},
     "output_type": "display_data"
    }
   ],
   "source": [
    "# Next, let's visualize one image from each class.\n",
    "# We will use the matplotlib 'imshow' function.\n",
    "\n",
    "fig, axs = plt.subplots(nrows=2, ncols=5, figsize=(10,5))\n",
    "\n",
    "for i in range(10):\n",
    "    idx = np.where(y_train==i)[0][0]\n",
    "    img = axs[int(i >= 5), i%5].imshow(\n",
    "        X=X_train_2d[idx], cmap='Greens'\n",
    "    )\n",
    "    img.axes.get_yaxis().set_visible(False)\n",
    "    img.axes.get_xaxis().set_visible(False)\n",
    "    img.axes.set_title(f'Label: {i}')"
   ]
  },
  {
   "cell_type": "code",
   "execution_count": 10,
   "id": "869f3233",
   "metadata": {
    "execution": {
     "iopub.execute_input": "2023-11-13T10:13:22.137814Z",
     "iopub.status.busy": "2023-11-13T10:13:22.136482Z",
     "iopub.status.idle": "2023-11-13T10:13:22.448798Z",
     "shell.execute_reply": "2023-11-13T10:13:22.447457Z"
    },
    "papermill": {
     "duration": 0.329685,
     "end_time": "2023-11-13T10:13:22.451845",
     "exception": false,
     "start_time": "2023-11-13T10:13:22.122160",
     "status": "completed"
    },
    "tags": []
   },
   "outputs": [
    {
     "name": "stdout",
     "output_type": "stream",
     "text": [
      "After applying Min-Max Scaler:\n",
      "  - New minimum value: 0.0\n",
      "  - New maximum value: 1.0\n",
      "\n",
      "After flattening:\n",
      "  - New shape: (42000, 784)\n"
     ]
    }
   ],
   "source": [
    "# Finally, let's preprocess the data before feeding an MLP:\n",
    "# Scaling & Flattening\n",
    "\n",
    "X_min, X_max = X_train_original.min(), X_train_original.max()\n",
    "X_train = (X_train_original - X_min) / (X_max - X_min)  # scaling\n",
    "print(\"After applying Min-Max Scaler:\")\n",
    "print(\"  - New minimum value:\", X_train.min())\n",
    "print(\"  - New maximum value:\", X_train.max())\n",
    "print()\n",
    "\n",
    "X_train = X_train.reshape(42000, -1)  # flattening\n",
    "print(\"After flattening:\")\n",
    "print(\"  - New shape:\", X_train.shape)"
   ]
  },
  {
   "cell_type": "markdown",
   "id": "ceb8a1eb",
   "metadata": {
    "papermill": {
     "duration": 0.012431,
     "end_time": "2023-11-13T10:13:22.476775",
     "exception": false,
     "start_time": "2023-11-13T10:13:22.464344",
     "status": "completed"
    },
    "tags": []
   },
   "source": [
    "# Train a MultiLayer Perceptron"
   ]
  },
  {
   "cell_type": "markdown",
   "id": "137fe911",
   "metadata": {
    "papermill": {
     "duration": 0.012207,
     "end_time": "2023-11-13T10:13:22.501919",
     "exception": false,
     "start_time": "2023-11-13T10:13:22.489712",
     "status": "completed"
    },
    "tags": []
   },
   "source": [
    "<div style=\"border-radius: 10px; border: #3bb143 solid; padding: 15px; background-color: #ffffff00; font-size: 100%; text-align: left;\">\n",
    "In this section, we will <b>train a MultiLayer Perceptron</b> classifier based on the preprocessed data from the previous section. We will use the <code>sklearn.neural_network.MLPClassifier</code>, which offers a convenient way to train poweful <i>Neural Networks</i>.<br><br>\n",
    "A <b>MultiLayer Perceptron (MLP)</b> is a type of <i>artificial neural network</i> that consists of multiple layers of neurons, arranged in a series of <i>input</i>, <i>hidden</i>, and <i>output</i> layers. It is a <b>feedforward neural network</b>, meaning that information travels in one direction, from the <i>input layer</i> through the <i>hidden layers</i> to the <i>output layer</i>. The term <b>perceptron</b> refers to a single layer of neurons.<br><br>\n",
    "Each connection between nodes in adjacent layers is associated with a <b>weight</b>. The weights determine the strength of the connections and are adjusted during the training process to enable the network to learn from data. Additionally, each node has an associated <b>bias</b>, which allows the model to learn constant offsets.<br><br>\n",
    "Neurons in the hidden layers typically apply an <b>activation function</b> to the weighted sum of their inputs and biases. These functions <i>introduce non-linearities</i>, allowing the network to learn complex relationships in the data. Here we use the well-known <b>ReLU</b> (<i>Rectified Linear Unit</i>).<br><br>\n",
    "The model is trained using a supervised learning approach called <b>backpropagation</b>. During training, the network adjusts its weights and biases to minimize the difference between predicted outputs and actual target values, guided by a <b>loss function</b>. For our multi-class classification task, we will use the <b>cross-entropy loss</b> (a.k.a <b>logarithmic loss</b>).\n",
    "</div>"
   ]
  },
  {
   "cell_type": "markdown",
   "id": "fa77ea90",
   "metadata": {
    "papermill": {
     "duration": 0.012038,
     "end_time": "2023-11-13T10:13:22.526495",
     "exception": false,
     "start_time": "2023-11-13T10:13:22.514457",
     "status": "completed"
    },
    "tags": []
   },
   "source": [
    "<div style=\"border-radius: 10px; border: #3bb143 solid; padding: 15px; background-color: #ffffff00; font-size: 100%; text-align: left;\">\n",
    "We will not use the <code>fit</code> method from the <code>sklearn.neural_network.MLPClassifier</code> module. Why? Because we want to track the training and validation accuracies and losses, and this method does not provide us with these values after each udpate. Fortunatelly, we can implement our own training loop using the <code>partial_fit</code> method, which updates the current model with the given data (next chunk of code!).<br><br>\n",
    "At each epoch, we will split the data into batches and perform a <code>partial_fit</code> step. Then, we will compute the training and validation accuracies and losses, and store all of them in four python lists. After the training loop is completed, we will analyze these metrics.\n",
    "</div>"
   ]
  },
  {
   "cell_type": "code",
   "execution_count": 11,
   "id": "d69cdfc2",
   "metadata": {
    "execution": {
     "iopub.execute_input": "2023-11-13T10:13:22.553296Z",
     "iopub.status.busy": "2023-11-13T10:13:22.552875Z",
     "iopub.status.idle": "2023-11-13T10:13:23.002657Z",
     "shell.execute_reply": "2023-11-13T10:13:23.000982Z"
    },
    "papermill": {
     "duration": 0.466481,
     "end_time": "2023-11-13T10:13:23.005397",
     "exception": false,
     "start_time": "2023-11-13T10:13:22.538916",
     "status": "completed"
    },
    "tags": []
   },
   "outputs": [
    {
     "name": "stdout",
     "output_type": "stream",
     "text": [
      "X_train_ shape = (39900, 784)\n",
      "y_train_ shape = (39900,)\n",
      "-----------------------------------\n",
      "X_valid_ shape = (2100, 784)\n",
      "y_valid_ shape = (2100,)\n"
     ]
    }
   ],
   "source": [
    "# Let's split the training data into \n",
    "# train and validation subsets.\n",
    "# The validation set will be used for\n",
    "# evaluation purposes while fitting the\n",
    "# model to the training subset.\n",
    "# The validation set will allow us to \n",
    "# detect overfitting.\n",
    "\n",
    "X_train_, X_valid_, y_train_, y_valid_ = train_test_split(\n",
    "    X_train,\n",
    "    y_train,\n",
    "    test_size=0.05,  # 95% train, 5% validation\n",
    "    stratify=y_train,  # split data in a stratified fashion\n",
    "    random_state=2023\n",
    ")\n",
    "\n",
    "print('X_train_ shape =', X_train_.shape)\n",
    "print('y_train_ shape =', y_train_.shape)\n",
    "print('-' * 35)\n",
    "print('X_valid_ shape =', X_valid_.shape)\n",
    "print('y_valid_ shape =', y_valid_.shape)"
   ]
  },
  {
   "cell_type": "code",
   "execution_count": 12,
   "id": "5067f538",
   "metadata": {
    "execution": {
     "iopub.execute_input": "2023-11-13T10:13:23.032980Z",
     "iopub.status.busy": "2023-11-13T10:13:23.032573Z",
     "iopub.status.idle": "2023-11-13T10:13:23.039752Z",
     "shell.execute_reply": "2023-11-13T10:13:23.038444Z"
    },
    "papermill": {
     "duration": 0.024431,
     "end_time": "2023-11-13T10:13:23.042377",
     "exception": false,
     "start_time": "2023-11-13T10:13:23.017946",
     "status": "completed"
    },
    "tags": []
   },
   "outputs": [],
   "source": [
    "# Initialize an MLPClassifier instance\n",
    "\n",
    "mlp_clf = MLPClassifier(\n",
    "    hidden_layer_sizes=[128, 32,],  # Neurons for each hidden layer\n",
    "    activation='relu',  # Rectified Linear Unit (activation function)\n",
    "    solver='adam',  # High-performance stochastic gradient-based optimizer\n",
    "    alpha=5e-3,  # Strength of the L2 regularization term (added to the loss)\n",
    "    learning_rate_init=5e-4,  # It controls the step-size in updating the weights\n",
    "    shuffle=True,  # Whether to shuffle samples in each iteration (epoch)\n",
    "    random_state=1234,  # RNG for weights and bias initialization\n",
    "    verbose=0,  # Whether to print progress messages to stdout.\n",
    ")\n",
    "\n",
    "# NOTE that we don't specify the batch_size and the max_iter arguments\n",
    "# We will apply them manually in the next chunk of code (partial_fit)"
   ]
  },
  {
   "cell_type": "code",
   "execution_count": 13,
   "id": "fa8321a5",
   "metadata": {
    "execution": {
     "iopub.execute_input": "2023-11-13T10:13:23.069955Z",
     "iopub.status.busy": "2023-11-13T10:13:23.069567Z",
     "iopub.status.idle": "2023-11-13T10:16:42.795117Z",
     "shell.execute_reply": "2023-11-13T10:16:42.793353Z"
    },
    "papermill": {
     "duration": 199.745139,
     "end_time": "2023-11-13T10:16:42.800516",
     "exception": false,
     "start_time": "2023-11-13T10:13:23.055377",
     "status": "completed"
    },
    "tags": []
   },
   "outputs": [
    {
     "name": "stdout",
     "output_type": "stream",
     "text": [
      "epoch 1 / 10:\n"
     ]
    },
    {
     "name": "stderr",
     "output_type": "stream",
     "text": [
      "100%|██████████| 329/329 [00:19<00:00, 16.60it/s]\n"
     ]
    },
    {
     "name": "stdout",
     "output_type": "stream",
     "text": [
      "    train losses = 0.2713\n",
      "    valid losses = 0.291\n",
      "    train acc = 0.9217\n",
      "    valid acc = 0.921\n",
      "--------------------------------------------------\n",
      "epoch 2 / 10:\n"
     ]
    },
    {
     "name": "stderr",
     "output_type": "stream",
     "text": [
      "100%|██████████| 329/329 [00:18<00:00, 17.59it/s]\n"
     ]
    },
    {
     "name": "stdout",
     "output_type": "stream",
     "text": [
      "    train losses = 0.201\n",
      "    valid losses = 0.2066\n",
      "    train acc = 0.941\n",
      "    valid acc = 0.9395\n",
      "--------------------------------------------------\n",
      "epoch 3 / 10:\n"
     ]
    },
    {
     "name": "stderr",
     "output_type": "stream",
     "text": [
      "100%|██████████| 329/329 [00:20<00:00, 16.39it/s]\n"
     ]
    },
    {
     "name": "stdout",
     "output_type": "stream",
     "text": [
      "    train losses = 0.1532\n",
      "    valid losses = 0.1655\n",
      "    train acc = 0.9556\n",
      "    valid acc = 0.9495\n",
      "--------------------------------------------------\n",
      "epoch 4 / 10:\n"
     ]
    },
    {
     "name": "stderr",
     "output_type": "stream",
     "text": [
      "100%|██████████| 329/329 [00:18<00:00, 17.36it/s]\n"
     ]
    },
    {
     "name": "stdout",
     "output_type": "stream",
     "text": [
      "    train losses = 0.1313\n",
      "    valid losses = 0.1405\n",
      "    train acc = 0.9639\n",
      "    valid acc = 0.956\n",
      "--------------------------------------------------\n",
      "epoch 5 / 10:\n"
     ]
    },
    {
     "name": "stderr",
     "output_type": "stream",
     "text": [
      "100%|██████████| 329/329 [00:19<00:00, 16.50it/s]\n"
     ]
    },
    {
     "name": "stdout",
     "output_type": "stream",
     "text": [
      "    train losses = 0.1109\n",
      "    valid losses = 0.1191\n",
      "    train acc = 0.9688\n",
      "    valid acc = 0.9631\n",
      "--------------------------------------------------\n",
      "epoch 6 / 10:\n"
     ]
    },
    {
     "name": "stderr",
     "output_type": "stream",
     "text": [
      "100%|██████████| 329/329 [00:19<00:00, 16.53it/s]\n"
     ]
    },
    {
     "name": "stdout",
     "output_type": "stream",
     "text": [
      "    train losses = 0.1001\n",
      "    valid losses = 0.1054\n",
      "    train acc = 0.9713\n",
      "    valid acc = 0.9677\n",
      "--------------------------------------------------\n",
      "epoch 7 / 10:\n"
     ]
    },
    {
     "name": "stderr",
     "output_type": "stream",
     "text": [
      "100%|██████████| 329/329 [00:18<00:00, 17.32it/s]\n"
     ]
    },
    {
     "name": "stdout",
     "output_type": "stream",
     "text": [
      "    train losses = 0.0779\n",
      "    valid losses = 0.0898\n",
      "    train acc = 0.9801\n",
      "    valid acc = 0.9736\n",
      "--------------------------------------------------\n",
      "epoch 8 / 10:\n"
     ]
    },
    {
     "name": "stderr",
     "output_type": "stream",
     "text": [
      "100%|██████████| 329/329 [00:19<00:00, 16.51it/s]\n"
     ]
    },
    {
     "name": "stdout",
     "output_type": "stream",
     "text": [
      "    train losses = 0.0706\n",
      "    valid losses = 0.0815\n",
      "    train acc = 0.9805\n",
      "    valid acc = 0.9752\n",
      "--------------------------------------------------\n",
      "epoch 9 / 10:\n"
     ]
    },
    {
     "name": "stderr",
     "output_type": "stream",
     "text": [
      "100%|██████████| 329/329 [00:19<00:00, 16.89it/s]\n"
     ]
    },
    {
     "name": "stdout",
     "output_type": "stream",
     "text": [
      "    train losses = 0.0632\n",
      "    valid losses = 0.0712\n",
      "    train acc = 0.9825\n",
      "    valid acc = 0.9799\n",
      "--------------------------------------------------\n",
      "epoch 10 / 10:\n"
     ]
    },
    {
     "name": "stderr",
     "output_type": "stream",
     "text": [
      "100%|██████████| 329/329 [00:19<00:00, 17.16it/s]"
     ]
    },
    {
     "name": "stdout",
     "output_type": "stream",
     "text": [
      "    train losses = 0.0595\n",
      "    valid losses = 0.0637\n",
      "    train acc = 0.984\n",
      "    valid acc = 0.9817\n",
      "--------------------------------------------------\n"
     ]
    },
    {
     "name": "stderr",
     "output_type": "stream",
     "text": [
      "\n"
     ]
    }
   ],
   "source": [
    "# Remaining hyperparameters:\n",
    "n_epochs = 10\n",
    "n_classes = 10  # from 0 to 9 (both included)\n",
    "batch_size = 128  # Size of minibatches for stochastic optimizers\n",
    "\n",
    "# Track the training and validation losses and accuracies\n",
    "train_accuracies, valid_accuracies = [], []\n",
    "train_losses, valid_losses = [], []\n",
    "\n",
    "# Training loop:\n",
    "for epoch in range(n_epochs):\n",
    "    \n",
    "    # Shuffle the training data\n",
    "    shuffle_idx = np.random.permutation(len(X_train))\n",
    "    X_epoch = X_train[shuffle_idx]\n",
    "    y_epoch = y_train[shuffle_idx]\n",
    "    print(f'epoch {epoch+1} / {n_epochs}:')\n",
    "    \n",
    "    for batch_first_idx in tqdm(range(0, len(y_train), batch_size)):\n",
    "        \n",
    "        # Get the data for the current batch\n",
    "        batch_last_idx = min(batch_first_idx+batch_size, len(y_train))\n",
    "        X_batch = X_epoch[batch_first_idx:batch_last_idx]\n",
    "        y_batch = y_epoch[batch_first_idx:batch_last_idx]\n",
    "        \n",
    "        # Update the model with a single iteration over the given data.\n",
    "        mlp_clf.partial_fit(X=X_batch, y=y_batch, classes=range(n_classes))\n",
    "        \n",
    "        # Compute and track training and validation losses\n",
    "        batch_loss = log_loss(\n",
    "            y_true=y_batch, \n",
    "            y_pred=mlp_clf.predict_proba(X=X_batch),\n",
    "            labels=range(n_classes)\n",
    "        )\n",
    "        valid_loss = log_loss(\n",
    "            y_true=y_valid_,\n",
    "            y_pred=mlp_clf.predict_proba(X=X_valid_),\n",
    "            labels=range(n_classes)\n",
    "        )\n",
    "        train_losses.append(batch_loss)\n",
    "        valid_losses.append(valid_loss)\n",
    "        \n",
    "        # Compute and track training and validation accuracies\n",
    "        batch_acc = accuracy_score(\n",
    "            y_true=y_batch, \n",
    "            y_pred=mlp_clf.predict(X=X_batch),\n",
    "        )\n",
    "        valid_acc = accuracy_score(\n",
    "            y_true=y_valid_, \n",
    "            y_pred=mlp_clf.predict(X=X_valid_),\n",
    "        )\n",
    "        train_accuracies.append(batch_acc)\n",
    "        valid_accuracies.append(valid_acc)\n",
    "\n",
    "    print(f'    train losses = {round(np.mean(train_losses[-100:]), 4)}')\n",
    "    print(f'    valid losses = {round(np.mean(valid_losses[-100:]), 4)}')\n",
    "    print(f'    train acc = {round(np.mean(train_accuracies[-100:]), 4)}')\n",
    "    print(f'    valid acc = {round(np.mean(valid_accuracies[-100:]), 4)}')\n",
    "    print('-' * 50)"
   ]
  },
  {
   "cell_type": "code",
   "execution_count": 14,
   "id": "5b8cb525",
   "metadata": {
    "execution": {
     "iopub.execute_input": "2023-11-13T10:16:43.185023Z",
     "iopub.status.busy": "2023-11-13T10:16:43.184629Z",
     "iopub.status.idle": "2023-11-13T10:16:43.839247Z",
     "shell.execute_reply": "2023-11-13T10:16:43.837949Z"
    },
    "papermill": {
     "duration": 0.824753,
     "end_time": "2023-11-13T10:16:43.842480",
     "exception": false,
     "start_time": "2023-11-13T10:16:43.017727",
     "status": "completed"
    },
    "tags": []
   },
   "outputs": [
    {
     "data": {
      "image/png": "[encoded data removed]",
      "text/plain": [
       "<Figure size 1200x400 with 2 Axes>"
      ]
     },
     "metadata": {},
     "output_type": "display_data"
    }
   ],
   "source": [
    "# Plot the training and validation curves (losses and accuracies)\n",
    "# Implement a moving_average transformation to smooth the curves\n",
    "\n",
    "def moving_average(x, w):\n",
    "    return np.convolve(x, np.ones(w), 'valid') / w\n",
    "\n",
    "window_size = 50\n",
    "\n",
    "# Plot training and validation losses\n",
    "plt.figure(figsize=(12, 4))\n",
    "plt.subplot(1, 2, 1)\n",
    "plt.plot(\n",
    "    moving_average(train_losses, w=window_size),\n",
    "    label='Training Loss'\n",
    ")\n",
    "plt.plot(\n",
    "    moving_average(valid_losses, w=window_size),\n",
    "    label='Validation Loss'\n",
    ")\n",
    "plt.title('Training and Validation Losses')\n",
    "plt.xlabel('Weight Updates')\n",
    "plt.ylabel('Loss')\n",
    "plt.legend()\n",
    "\n",
    "# Plot training and validation accuracies\n",
    "plt.subplot(1, 2, 2)\n",
    "plt.plot(\n",
    "    moving_average(train_accuracies, w=window_size),\n",
    "    label='Training Accuracy'\n",
    ")\n",
    "plt.plot(\n",
    "    moving_average(valid_accuracies, w=window_size),\n",
    "    label='Validation Accuracy'\n",
    ")\n",
    "plt.title('Training and Validation Accuracies')\n",
    "plt.xlabel('Weight Updates')\n",
    "plt.ylabel('Accuracy')\n",
    "plt.legend()\n",
    "plt.show()"
   ]
  },
  {
   "cell_type": "code",
   "execution_count": 15,
   "id": "5f019c20",
   "metadata": {
    "execution": {
     "iopub.execute_input": "2023-11-13T10:16:44.178768Z",
     "iopub.status.busy": "2023-11-13T10:16:44.177417Z",
     "iopub.status.idle": "2023-11-13T10:16:45.141279Z",
     "shell.execute_reply": "2023-11-13T10:16:45.140353Z"
    },
    "papermill": {
     "duration": 1.136276,
     "end_time": "2023-11-13T10:16:45.144062",
     "exception": false,
     "start_time": "2023-11-13T10:16:44.007786",
     "status": "completed"
    },
    "tags": []
   },
   "outputs": [
    {
     "data": {
      "text/plain": [
       "<sklearn.metrics._plot.confusion_matrix.ConfusionMatrixDisplay at 0x79fb2708c550>"
      ]
     },
     "execution_count": 15,
     "metadata": {},
     "output_type": "execute_result"
    },
    {
     "data": {
      "image/png": "[encoded data removed]",
      "text/plain": [
       "<Figure size 640x480 with 2 Axes>"
      ]
     },
     "metadata": {},
     "output_type": "display_data"
    }
   ],
   "source": [
    "# Compute and display\n",
    "y_valid_pred = mlp_clf.predict(X=X_valid_)\n",
    "conf_matrix = confusion_matrix(\n",
    "    y_true=y_valid_, \n",
    "    y_pred=y_valid_pred\n",
    ")\n",
    "conf_matrix_disp = ConfusionMatrixDisplay(conf_matrix)\n",
    "conf_matrix_disp.plot()"
   ]
  },
  {
   "cell_type": "markdown",
   "id": "6255476f",
   "metadata": {
    "papermill": {
     "duration": 0.164473,
     "end_time": "2023-11-13T10:16:45.473131",
     "exception": false,
     "start_time": "2023-11-13T10:16:45.308658",
     "status": "completed"
    },
    "tags": []
   },
   "source": [
    "# 👀 Visualize the learned weights 👀"
   ]
  },
  {
   "cell_type": "markdown",
   "id": "44d060f7",
   "metadata": {
    "papermill": {
     "duration": 0.171667,
     "end_time": "2023-11-13T10:16:45.811642",
     "exception": false,
     "start_time": "2023-11-13T10:16:45.639975",
     "status": "completed"
    },
    "tags": []
   },
   "source": [
    "<div style=\"border-radius: 10px; border: #3bb143 solid; padding: 15px; background-color: #ffffff00; font-size: 100%; text-align: left;\">\n",
    "    After training the model, we can <b>visualize the learned weights</b>. However, the interpreation is not always possible.<br><br>\n",
    "Visualize MLP Filters. [<a href=https://scikit-learn.org/stable/auto_examples/neural_networks/plot_mnist_filters.html#sphx-glr-auto-examples-neural-networks-plot-mnist-filters-py>LINK</a>]\n",
    "</div>"
   ]
  },
  {
   "cell_type": "code",
   "execution_count": 16,
   "id": "e94c43e1",
   "metadata": {
    "execution": {
     "iopub.execute_input": "2023-11-13T10:16:46.168523Z",
     "iopub.status.busy": "2023-11-13T10:16:46.167789Z",
     "iopub.status.idle": "2023-11-13T10:16:47.116912Z",
     "shell.execute_reply": "2023-11-13T10:16:47.115705Z"
    },
    "papermill": {
     "duration": 1.121463,
     "end_time": "2023-11-13T10:16:47.119781",
     "exception": false,
     "start_time": "2023-11-13T10:16:45.998318",
     "status": "completed"
    },
    "tags": []
   },
   "outputs": [
    {
     "data": {
      "image/png": "[encoded data removed]",
      "text/plain": [
       "<Figure size 640x480 with 16 Axes>"
      ]
     },
     "metadata": {},
     "output_type": "display_data"
    }
   ],
   "source": [
    "fig, axes = plt.subplots(4, 4)\n",
    "\n",
    "# Use global min / max to ensure all weights are shown on the same scale\n",
    "vmin, vmax = mlp_clf.coefs_[0].min(), mlp_clf.coefs_[0].max()\n",
    "\n",
    "for coef, ax in zip(mlp_clf.coefs_[0].T, axes.ravel()):\n",
    "    ax.matshow(\n",
    "        coef.reshape(28, 28), \n",
    "        cmap=plt.cm.gray, \n",
    "        vmin=0.5 * vmin, \n",
    "        vmax=0.5 * vmax\n",
    "    )\n",
    "    ax.set_xticks(())\n",
    "    ax.set_yticks(())\n",
    "\n",
    "plt.show()"
   ]
  },
  {
   "cell_type": "markdown",
   "id": "437e195c",
   "metadata": {
    "papermill": {
     "duration": 0.165541,
     "end_time": "2023-11-13T10:16:47.451390",
     "exception": false,
     "start_time": "2023-11-13T10:16:47.285849",
     "status": "completed"
    },
    "tags": []
   },
   "source": [
    "#  Create the final file "
   ]
  },
  {
   "cell_type": "markdown",
   "id": "87a4aabb",
   "metadata": {
    "papermill": {
     "duration": 0.166186,
     "end_time": "2023-11-13T10:16:47.784089",
     "exception": false,
     "start_time": "2023-11-13T10:16:47.617903",
     "status": "completed"
    },
    "tags": []
   },
   "source": [
    "<div style=\"border-radius: 10px; border: #3bb143 solid; padding: 15px; background-color: #ffffff00; font-size: 100%; text-align: left;\">\n",
    "    In this section, we will <b>train a new model with the entire training dataset</b> (training subset + validation subset). But before that, we will <b>preprocess the test data</b> applying the exact same preprocessing steps we applied to the training data. Finally, we will <b>create the final file with the test predictions</b>. \n",
    "</div>"
   ]
  },
  {
   "cell_type": "code",
   "execution_count": 17,
   "id": "7d9c64c3",
   "metadata": {
    "execution": {
     "iopub.execute_input": "2023-11-13T10:16:48.124405Z",
     "iopub.status.busy": "2023-11-13T10:16:48.123692Z",
     "iopub.status.idle": "2023-11-13T10:16:48.353875Z",
     "shell.execute_reply": "2023-11-13T10:16:48.352562Z"
    },
    "papermill": {
     "duration": 0.403807,
     "end_time": "2023-11-13T10:16:48.356824",
     "exception": false,
     "start_time": "2023-11-13T10:16:47.953017",
     "status": "completed"
    },
    "tags": []
   },
   "outputs": [
    {
     "name": "stdout",
     "output_type": "stream",
     "text": [
      "After applying Min-Max Scaler:\n",
      "  - New minimum value: 0.0\n",
      "  - New maximum value: 1.0\n",
      "\n",
      "After flattening:\n",
      "  - New shape: (28000, 784)\n"
     ]
    }
   ],
   "source": [
    "# Preprocess the Test data: Scale and Flatten\n",
    "X_test = df_test.values\n",
    "\n",
    "X_min, X_max = X_train_original.min(), X_train_original.max()\n",
    "X_test = (X_test - X_min) / (X_max - X_min)\n",
    "print(\"After applying Min-Max Scaler:\")\n",
    "print(\"  - New minimum value:\", X_test.min())\n",
    "print(\"  - New maximum value:\", X_test.max())\n",
    "print()\n",
    "\n",
    "X_test = X_test.reshape(len(df_test), -1)  # flattening\n",
    "print(\"After flattening:\")\n",
    "print(\"  - New shape:\", X_test.shape)\n",
    "\n",
    "# NOTE: to compute the min and max values\n",
    "# we use the training data to avoid DATA LEAKAGE."
   ]
  },
  {
   "cell_type": "code",
   "execution_count": 18,
   "id": "47884b5b",
   "metadata": {
    "execution": {
     "iopub.execute_input": "2023-11-13T10:16:48.691227Z",
     "iopub.status.busy": "2023-11-13T10:16:48.690775Z",
     "iopub.status.idle": "2023-11-13T10:17:17.080501Z",
     "shell.execute_reply": "2023-11-13T10:17:17.078819Z"
    },
    "papermill": {
     "duration": 28.562338,
     "end_time": "2023-11-13T10:17:17.085982",
     "exception": false,
     "start_time": "2023-11-13T10:16:48.523644",
     "status": "completed"
    },
    "tags": []
   },
   "outputs": [
    {
     "name": "stdout",
     "output_type": "stream",
     "text": [
      "Iteration 1, loss = 0.57275635\n",
      "Iteration 2, loss = 0.22911568\n",
      "Iteration 3, loss = 0.17819196\n",
      "Iteration 4, loss = 0.14866860\n",
      "Iteration 5, loss = 0.12713300\n",
      "Iteration 6, loss = 0.10864079\n",
      "Iteration 7, loss = 0.09550027\n",
      "Iteration 8, loss = 0.08370695\n",
      "Iteration 9, loss = 0.07462213\n",
      "Iteration 10, loss = 0.06855255\n"
     ]
    },
    {
     "name": "stderr",
     "output_type": "stream",
     "text": [
      "/opt/conda/lib/python3.10/site-packages/sklearn/neural_network/_multilayer_perceptron.py:686: ConvergenceWarning: Stochastic Optimizer: Maximum iterations (10) reached and the optimization hasn't converged yet.\n",
      "  warnings.warn(\n"
     ]
    },
    {
     "data": {
      "text/html": [
       "<style>#sk-container-id-1 {color: black;background-color: white;}#sk-container-id-1 pre{padding: 0;}#sk-container-id-1 div.sk-toggleable {background-color: white;}#sk-container-id-1 label.sk-toggleable__label {cursor: pointer;display: block;width: 100%;margin-bottom: 0;padding: 0.3em;box-sizing: border-box;text-align: center;}#sk-container-id-1 label.sk-toggleable__label-arrow:before {content: \"▸\";float: left;margin-right: 0.25em;color: #696969;}#sk-container-id-1 label.sk-toggleable__label-arrow:hover:before {color: black;}#sk-container-id-1 div.sk-estimator:hover label.sk-toggleable__label-arrow:before {color: black;}#sk-container-id-1 div.sk-toggleable__content {max-height: 0;max-width: 0;overflow: hidden;text-align: left;background-color: #f0f8ff;}#sk-container-id-1 div.sk-toggleable__content pre {margin: 0.2em;color: black;border-radius: 0.25em;background-color: #f0f8ff;}#sk-container-id-1 input.sk-toggleable__control:checked~div.sk-toggleable__content {max-height: 200px;max-width: 100%;overflow: auto;}#sk-container-id-1 input.sk-toggleable__control:checked~label.sk-toggleable__label-arrow:before {content: \"▾\";}#sk-container-id-1 div.sk-estimator input.sk-toggleable__control:checked~label.sk-toggleable__label {background-color: #d4ebff;}#sk-container-id-1 div.sk-label input.sk-toggleable__control:checked~label.sk-toggleable__label {background-color: #d4ebff;}#sk-container-id-1 input.sk-hidden--visually {border: 0;clip: rect(1px 1px 1px 1px);clip: rect(1px, 1px, 1px, 1px);height: 1px;margin: -1px;overflow: hidden;padding: 0;position: absolute;width: 1px;}#sk-container-id-1 div.sk-estimator {font-family: monospace;background-color: #f0f8ff;border: 1px dotted black;border-radius: 0.25em;box-sizing: border-box;margin-bottom: 0.5em;}#sk-container-id-1 div.sk-estimator:hover {background-color: #d4ebff;}#sk-container-id-1 div.sk-parallel-item::after {content: \"\";width: 100%;border-bottom: 1px solid gray;flex-grow: 1;}#sk-container-id-1 div.sk-label:hover label.sk-toggleable__label {background-color: #d4ebff;}#sk-container-id-1 div.sk-serial::before {content: \"\";position: absolute;border-left: 1px solid gray;box-sizing: border-box;top: 0;bottom: 0;left: 50%;z-index: 0;}#sk-container-id-1 div.sk-serial {display: flex;flex-direction: column;align-items: center;background-color: white;padding-right: 0.2em;padding-left: 0.2em;position: relative;}#sk-container-id-1 div.sk-item {position: relative;z-index: 1;}#sk-container-id-1 div.sk-parallel {display: flex;align-items: stretch;justify-content: center;background-color: white;position: relative;}#sk-container-id-1 div.sk-item::before, #sk-container-id-1 div.sk-parallel-item::before {content: \"\";position: absolute;border-left: 1px solid gray;box-sizing: border-box;top: 0;bottom: 0;left: 50%;z-index: -1;}#sk-container-id-1 div.sk-parallel-item {display: flex;flex-direction: column;z-index: 1;position: relative;background-color: white;}#sk-container-id-1 div.sk-parallel-item:first-child::after {align-self: flex-end;width: 50%;}#sk-container-id-1 div.sk-parallel-item:last-child::after {align-self: flex-start;width: 50%;}#sk-container-id-1 div.sk-parallel-item:only-child::after {width: 0;}#sk-container-id-1 div.sk-dashed-wrapped {border: 1px dashed gray;margin: 0 0.4em 0.5em 0.4em;box-sizing: border-box;padding-bottom: 0.4em;background-color: white;}#sk-container-id-1 div.sk-label label {font-family: monospace;font-weight: bold;display: inline-block;line-height: 1.2em;}#sk-container-id-1 div.sk-label-container {text-align: center;}#sk-container-id-1 div.sk-container {/* jupyter's `normalize.less` sets `[hidden] { display: none; }` but bootstrap.min.css set `[hidden] { display: none !important; }` so we also need the `!important` here to be able to override the default hidden behavior on the sphinx rendered scikit-learn.org. See: https://github.com/scikit-learn/scikit-learn/issues/21755 */display: inline-block !important;position: relative;}#sk-container-id-1 div.sk-text-repr-fallback {display: none;}</style><div id=\"sk-container-id-1\" class=\"sk-top-container\"><div class=\"sk-text-repr-fallback\"><pre>MLPClassifier(alpha=0.005, batch_size=128, hidden_layer_sizes=[128, 32],\n",
       "              learning_rate_init=0.0005, max_iter=10, random_state=1234,\n",
       "              verbose=10)</pre><b>In a Jupyter environment, please rerun this cell to show the HTML representation or trust the notebook. <br />On GitHub, the HTML representation is unable to render, please try loading this page with nbviewer.org.</b></div><div class=\"sk-container\" hidden><div class=\"sk-item\"><div class=\"sk-estimator sk-toggleable\"><input class=\"sk-toggleable__control sk-hidden--visually\" id=\"sk-estimator-id-1\" type=\"checkbox\" checked><label for=\"sk-estimator-id-1\" class=\"sk-toggleable__label sk-toggleable__label-arrow\">MLPClassifier</label><div class=\"sk-toggleable__content\"><pre>MLPClassifier(alpha=0.005, batch_size=128, hidden_layer_sizes=[128, 32],\n",
       "              learning_rate_init=0.0005, max_iter=10, random_state=1234,\n",
       "              verbose=10)</pre></div></div></div></div></div>"
      ],
      "text/plain": [
       "MLPClassifier(alpha=0.005, batch_size=128, hidden_layer_sizes=[128, 32],\n",
       "              learning_rate_init=0.0005, max_iter=10, random_state=1234,\n",
       "              verbose=10)"
      ]
     },
     "execution_count": 18,
     "metadata": {},
     "output_type": "execute_result"
    }
   ],
   "source": [
    "# Initalize the final MLPClassifier\n",
    "final_mlp_clf = MLPClassifier(\n",
    "    hidden_layer_sizes=[128, 32,],\n",
    "    activation='relu',\n",
    "    solver='adam',\n",
    "    alpha=5e-3,\n",
    "    batch_size=batch_size,  # our batch_size value\n",
    "    learning_rate_init=5e-4,\n",
    "    max_iter=n_epochs,  # our n_epochs value\n",
    "    shuffle=True,\n",
    "    random_state=1234,\n",
    "    verbose=10,\n",
    ")\n",
    "\n",
    "# Fit the model using the entire training dataset\n",
    "final_mlp_clf.fit(X=X_train, y=y_train)"
   ]
  },
  {
   "cell_type": "code",
   "execution_count": 19,
   "id": "8220cfb2",
   "metadata": {
    "execution": {
     "iopub.execute_input": "2023-11-13T10:17:17.465871Z",
     "iopub.status.busy": "2023-11-13T10:17:17.465472Z",
     "iopub.status.idle": "2023-11-13T10:17:17.694787Z",
     "shell.execute_reply": "2023-11-13T10:17:17.692567Z"
    },
    "papermill": {
     "duration": 0.404282,
     "end_time": "2023-11-13T10:17:17.699750",
     "exception": false,
     "start_time": "2023-11-13T10:17:17.295468",
     "status": "completed"
    },
    "tags": []
   },
   "outputs": [
    {
     "name": "stdout",
     "output_type": "stream",
     "text": [
      "Test predictions = \n",
      " [2 0 9 ... 3 9 2]\n"
     ]
    }
   ],
   "source": [
    "# Once the model is trained using the trainign data,\n",
    "# make predictions on the test data\n",
    "predictions = final_mlp_clf.predict(X=X_test)\n",
    "print('Test predictions = \\n', predictions)"
   ]
  }
 ],
 "metadata": {
  "kernelspec": {
   "display_name": "Python 3 (ipykernel)",
   "language": "python",
   "name": "python3"
  },
  "language_info": {
   "codemirror_mode": {
    "name": "ipython",
    "version": 3
   },
   "file_extension": ".py",
   "mimetype": "text/x-python",
   "name": "python",
   "nbconvert_exporter": "python",
   "pygments_lexer": "ipython3",
   "version": "3.12.6"
  },
  "papermill": {
   "default_parameters": {},
   "duration": 272.575502,
   "end_time": "2023-11-13T10:17:20.944577",
   "environment_variables": {},
   "exception": null,
   "input_path": "__notebook__.ipynb",
   "output_path": "__notebook__.ipynb",
   "parameters": {},
   "start_time": "2023-11-13T10:12:48.369075",
   "version": "2.4.0"
  }
 },
 "nbformat": 4,
 "nbformat_minor": 5
}
